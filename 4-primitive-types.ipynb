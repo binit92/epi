{
 "cells": [
  {
   "cell_type": "markdown",
   "metadata": {},
   "source": [
    "#### Top tips for primitive types:\n",
    "\n",
    "- Be very comfortable with **bitwise operators**, particulary XOR\n",
    "- Understand how to use **masks** annd create them in an **machine independent way**\n",
    "- Know fast ways to **clear the lowermost set bit**(and by extension, set the lowermost 0, get its index, etc.)\n",
    "- Understand **signedness** and its implication to **shifting**\n",
    "- Consider using a **cache** to accelerate operations by using it to brute-force small inputs."
   ]
  },
  {
   "cell_type": "code",
   "execution_count": 1,
   "metadata": {},
   "outputs": [
    {
     "name": "stdout",
     "output_type": "stream",
     "text": [
      "2\n",
      "15\n",
      "13\n",
      "-11\n",
      "5\n",
      "20\n"
     ]
    }
   ],
   "source": [
    "# Bitwise operators\n",
    "\n",
    "a = 10  # 1010\n",
    "b = 7   # 0111\n",
    "\n",
    "# AND\n",
    "print(a & b)\n",
    "\n",
    "# OR\n",
    "print(a | b)\n",
    "\n",
    "# XOR 1010 ^ 0111 = 1101  = 13\n",
    "print(a ^ b)\n",
    "\n",
    "# NOT (1's complement) -(1010 +1) = -11\n",
    "print(~a)\n",
    "\n",
    "# RIGHT SHIFT 1010 = 0101\n",
    "print(a>>1)\n",
    "\n",
    "# LEFT SHIFT 1010 = 10100\n",
    "print(a<<1)\n"
   ]
  },
  {
   "cell_type": "markdown",
   "metadata": {},
   "source": [
    "### Program 1\n",
    "Write a program to count the number of bits that are set to 1 in a nonnegative integer."
   ]
  },
  {
   "cell_type": "code",
   "execution_count": 2,
   "metadata": {},
   "outputs": [
    {
     "name": "stdout",
     "output_type": "stream",
     "text": [
      "3\n"
     ]
    }
   ],
   "source": [
    "def count(x):\n",
    "    num_bits=0\n",
    "    while x:\n",
    "        num_bits += x & 1  \n",
    "        x>>=1   #shorthand \n",
    "    return num_bits\n",
    "\n",
    "print(count(100))"
   ]
  },
  {
   "cell_type": "markdown",
   "metadata": {},
   "source": [
    "Integers is Python are **unbounded** - the maximum integer representable is a function of the available memory."
   ]
  },
  {
   "cell_type": "code",
   "execution_count": 3,
   "metadata": {},
   "outputs": [
    {
     "name": "stdout",
     "output_type": "stream",
     "text": [
      "9223372036854775807\n",
      "sys.float_info(max=1.7976931348623157e+308, max_exp=1024, max_10_exp=308, min=2.2250738585072014e-308, min_exp=-1021, min_10_exp=-307, dig=15, mant_dig=53, epsilon=2.220446049250313e-16, radix=2, rounds=1)\n"
     ]
    }
   ],
   "source": [
    "import sys\n",
    "\n",
    "# maximum value integer that can be stored in a word. 2**63 -1 on 64-bit machine\n",
    "print(sys.maxsize)\n",
    "\n",
    "# Bounds on float\n",
    "print(sys.float_info) "
   ]
  },
  {
   "cell_type": "markdown",
   "metadata": {},
   "source": [
    "**Negative numbers** are treated as their 2's complement value. (There is no concept of an unsigned shift in python, since integers have infinite precision\n",
    "\n",
    "2's complement is 1 added to 1's complement"
   ]
  },
  {
   "cell_type": "code",
   "execution_count": 4,
   "metadata": {},
   "outputs": [
    {
     "name": "stdout",
     "output_type": "stream",
     "text": [
      "binary_number:  1111\n",
      "flipped_binary_number:  -1112\n",
      "added one:  -1111\n",
      "string:  -1111\n",
      "integer:  -15\n"
     ]
    }
   ],
   "source": [
    "number = 15\n",
    "\n",
    "# convert integer into binary format. ref:https://stackoverflow.com/a/10411108/21022287\n",
    "#binary_number = int(\"{0:08b}\".format(number))\n",
    "# Alternative way\n",
    "binary_number = int(format(number,\"08b\"))\n",
    "print(\"binary_number: \", binary_number)\n",
    "\n",
    "# 1's complement\n",
    "flipped_binary_number = ~ binary_number\n",
    "print(\"flipped_binary_number: \", flipped_binary_number)\n",
    "\n",
    "# 2's complement\n",
    "flipped_binary_number = flipped_binary_number + 1\n",
    "print(\"added one: \", flipped_binary_number)\n",
    "\n",
    "# convert integer into string\n",
    "str_twos_complement = str(flipped_binary_number)\n",
    "print(\"string: \", str_twos_complement)\n",
    "\n",
    "#convert string into decimal value. ref:https://www.programiz.com/python-programming/methods/built-in/int\n",
    "twos_complement = int(str_twos_complement, 2)\n",
    "print(\"integer: \", twos_complement)\n"
   ]
  },
  {
   "cell_type": "markdown",
   "metadata": {},
   "source": [
    "fast way to **Clear the lowermost set bit** (by extension, set the lowermost 0, get its index, etc) \n",
    "\n",
    "> Fastest way to find 2s-complement of a number is to get the rightmost set bit and flip everything to the left of it.\n",
    "- eg: consider a 4 bit system\n",
    "- 4=0100\n",
    "- 2s complement of 4 = 1100, which nothing but -4\n",
    "- 4&(-4)=0100.\n",
    "- Notice that there is only one set bit and its at rightmost set bit of 4\n",
    "- Similarly we can generalise this for n.\n",
    "- n&(-n) will contain only one set bit which is actually at the rightmost set bit position of n.\n",
    "- since there is only one set bit in n&(-n) , it is a power of 2.\n",
    "- So finally we can get the bit position by:\n",
    "- log2(n&(-n))+1"
   ]
  },
  {
   "cell_type": "code",
   "execution_count": 5,
   "metadata": {},
   "outputs": [
    {
     "name": "stdout",
     "output_type": "stream",
     "text": [
      "6\n",
      "4\n",
      "4\n",
      "0\n",
      "1\n",
      "2\n"
     ]
    }
   ],
   "source": [
    "def clear_lowermost_set_bit(x):\n",
    "    return x & x-1\n",
    "print(clear_lowermost_set_bit(7)) # 0111 & 0110 = 0110\n",
    "print(clear_lowermost_set_bit(6)) # 0110 & 0101 = 0100\n",
    "print(clear_lowermost_set_bit(5)) # 0101 & 0100 = 0100\n",
    "print(clear_lowermost_set_bit(4)) # 0100 & 0011 = 0000\n",
    "\n",
    "\n",
    "# https://stackoverflow.com/a/42747608/2102228\n",
    "import math\n",
    "def get_first_set_bit(x):\n",
    "    #return math.log2(x&-x)+1\n",
    "    return x&-x \n",
    "    #return x & ~(x-1)\n",
    "    #return x & (~x + 1)\n",
    "\n",
    "print(get_first_set_bit(7)) # 8bit system: 7&-7 = 00000111 &  00000001 = 00000001 = 1 \n",
    "print(get_first_set_bit(6)) # 8bit system: 6&-6 = 00000110 &  00000010 = 00000010 = 2"
   ]
  },
  {
   "cell_type": "code",
   "execution_count": 6,
   "metadata": {},
   "outputs": [
    {
     "name": "stdout",
     "output_type": "stream",
     "text": [
      "34.5\n",
      "3\n",
      "2\n",
      "-4\n",
      "3.14\n",
      "11.38894680008054\n",
      "15.0\n"
     ]
    }
   ],
   "source": [
    "# key methods of numeric types\n",
    "print(abs(-34.5))\n",
    "print(math.ceil(2.17))\n",
    "print(math.floor(2.17))\n",
    "x = 8\n",
    "y = -8\n",
    "print(min(x,-4))\n",
    "print(max(3.14,y))\n",
    "print(pow(2.17,3.14)) # alternatively 2.17 ** 3.14\n",
    "print(math.sqrt(225))\n",
    "\n"
   ]
  },
  {
   "cell_type": "code",
   "execution_count": 7,
   "metadata": {},
   "outputs": [
    {
     "name": "stdout",
     "output_type": "stream",
     "text": [
      "42\n",
      "42\n",
      "3.14\n",
      "3.14\n"
     ]
    }
   ],
   "source": [
    "# intercovert integer and strings\n",
    "print(str(42))\n",
    "print(int(\"42\"))\n",
    "print(str(3.14))\n",
    "print(float(\"3.14\"))\n",
    "\n"
   ]
  },
  {
   "cell_type": "code",
   "execution_count": 8,
   "metadata": {},
   "outputs": [
    {
     "name": "stdout",
     "output_type": "stream",
     "text": [
      "inf\n",
      "-inf\n"
     ]
    }
   ],
   "source": [
    "# Unlike integers, float are not infinite precision, and it is convenient to refer to infinity as\n",
    "print(float('inf'))\n",
    "print(float('-inf'))\n",
    "# above values are comparable to integers, and can be used to create pseudo max-int and pseudo min-int"
   ]
  },
  {
   "cell_type": "code",
   "execution_count": 9,
   "metadata": {},
   "outputs": [
    {
     "name": "stdout",
     "output_type": "stream",
     "text": [
      "False\n",
      "True\n",
      "True\n"
     ]
    }
   ],
   "source": [
    "# comparing float values, it is robust and can handle absolute and relative differences\n",
    "print(math.isclose(1.233, 1.4566))\n",
    "print(math.isclose(1.233, 1.233))\n",
    "print(math.isclose(1.233, 1.233000001))"
   ]
  },
  {
   "cell_type": "code",
   "execution_count": 10,
   "metadata": {},
   "outputs": [
    {
     "name": "stdout",
     "output_type": "stream",
     "text": [
      "4\n",
      "12\n",
      "0.3998973564611594\n",
      "[23, 32, 46, 98, 43, 66]\n",
      "66\n"
     ]
    }
   ],
   "source": [
    "# key methods in random : https://www.w3schools.com/python/module_random.asp\n",
    "import random\n",
    "print(random.randrange(28))\n",
    "print(random.randint(8,16))\n",
    "print(random.random())\n",
    "A = [32,23,43,46,66,98]\n",
    "random.shuffle(A)\n",
    "print(A)\n",
    "print(random.choice(A))"
   ]
  },
  {
   "cell_type": "markdown",
   "metadata": {},
   "source": [
    "## 4.1 COMPUTING THE PARITY OF A WORD\n",
    "\n",
    "The parity of a binary word is 1 if the number of 1s in the word is odd; otherwise, it is 0 e.g. 1011 - parity is 1 and for 1010 - parity is 0\n",
    "\n",
    "How would you compute the parity of very large number of 64-bit words? i.e 2^64 \n",
    "\n",
    "### Program 2"
   ]
  },
  {
   "cell_type": "code",
   "execution_count": 11,
   "metadata": {},
   "outputs": [
    {
     "name": "stdout",
     "output_type": "stream",
     "text": [
      "0\n",
      "1\n"
     ]
    }
   ],
   "source": [
    "# Brute-force\n",
    "\n",
    "def parity(x):\n",
    "    result = 0\n",
    "    while x:\n",
    "        result ^= x&1\n",
    "        x>>=1\n",
    "    return result\n",
    "\n",
    "print(parity(10))\n",
    "print(parity(11))\n",
    "\n",
    "# time-complexity is O(n)"
   ]
  },
  {
   "cell_type": "markdown",
   "metadata": {},
   "source": [
    "### Program 3\n",
    "Using the logic to remove lowest-most bit to improve time complexity. logic: (x & x-1)"
   ]
  },
  {
   "cell_type": "code",
   "execution_count": 12,
   "metadata": {},
   "outputs": [
    {
     "name": "stdout",
     "output_type": "stream",
     "text": [
      "0\n",
      "1\n"
     ]
    }
   ],
   "source": [
    "# First Improvement\n",
    "\n",
    "def parity(x):\n",
    "    result = 0\n",
    "    while x:\n",
    "        result ^=1\n",
    "        x &= x-1\n",
    "    return result\n",
    "\n",
    "print(parity(10))\n",
    "print(parity(11))\n",
    "\n",
    "# time-complexity is O(k), where k is the number of one's\n"
   ]
  },
  {
   "cell_type": "markdown",
   "metadata": {},
   "source": [
    "### Program 4\n",
    "Computing the parity of very **large number of words**, When you have to perform a large number of parity computations, and, more generally, any kind of bit fiddling computations, two key to performance are **processing multiple bits at a time and caching results in an array-based lookup table**\n",
    "\n",
    "- Clearly, we cannot keep the parity of every 64-bit integers - we would need 2^64 bits of storage (exabytes)\n",
    "- However, we can compute the parity of a 64-bit integer by grouping its bits into four non-overlapping 16-bit subwords\n",
    "- computing parity of each subwords, and then computing the parity of these four subresults.\n",
    "- 2^16 = 65536 is relatively small, which makes it feasible ti cache the parity of all 16-bits words using an array,\n",
    "- Furthermore, since 16 evenly divides 64, the code is simpler than we were, for e.g. to use 10 bit subwords\n",
    "\n",
    "Let's illustrate this example lookup table of 2-bit words. \n",
    "- The cache is <0,1,1,0> these are parities of (00),(01),(10),(11) respectively.\n",
    "- To compute the parity of (11001010), we would compute the parities of (11),(00),(10),(10)\n",
    "- by table lookup, we see these are 0,0,1,1 respectively,\n",
    "- so the final result is the parity of 0,0,1,0 which is 0\n",
    "\n",
    "Algo\n",
    "- To lookup the parity of first two bit in (11101010), we right shift by 6, to get (00000011), and use this index into the cache.\n",
    "- To lookup the parity of the next two bits, i.e. (10) we right shift by 4, to get (00001110), to get(10) in the two least significant bit places. The right shift doesnot remove the leading 11 -(00001110), so we cannot index the cache with this, it leads to an OUT_OF_BOUND access.\n",
    "- To get the last two bits after the right shift by 4, we bitwise AND (00001110) with (00000011) - this is the mask used to extract the last 2-bits. the result is (00000010). Similar masking is needed for other two 2-bit lookups.\n",
    "\n",
    "**TODO: Implement a working code**"
   ]
  },
  {
   "cell_type": "code",
   "execution_count": 13,
   "metadata": {},
   "outputs": [],
   "source": [
    "def parity(x):\n",
    "    MASK_SIZE = 16\n",
    "    BIT_MASK = 0xFFFF\n",
    "    return(PRECOMPUTED_PARITY[x >> (3* MASK_SIZE)] ^\n",
    "          PRECOMPUTED_PARITY[(x >>(2 * MASK_SIZE)) & BIT_MASK] ^\n",
    "          PRECOMPUTED_PARITY[(x >> MASK_SIZE) & BIT_MASK] ^\n",
    "          PRECOMPUTED_PARITY[x & BITMASK])"
   ]
  },
  {
   "cell_type": "code",
   "execution_count": 14,
   "metadata": {},
   "outputs": [],
   "source": [
    "sixtyfour_bit = 18446744073709551616\n",
    "#print(parity(sixtyfour_bit)) \n",
    "\n",
    "# TODO : implement this fully .."
   ]
  },
  {
   "cell_type": "markdown",
   "metadata": {},
   "source": [
    "the time complexity is a function of the size of the keys used to index the lookup tabke, Let L be the width of the words for which we cache the results, and n the word size. Since there are n/L terms, the **time complexity is O(n/L)** assuming word-level operations, such as shifting, take O(1) time. (This does not include the time for inititalization of the lookup table.)"
   ]
  },
  {
   "cell_type": "markdown",
   "metadata": {},
   "source": [
    "We can improve on the O(n) worst-cast time complexity of the previous algorithms by exploiting some simple properties of parity. Specifically, the XOR of two bits is defined to be 0 if both bits are 0 or both bits are 1; otherwise it is 1.\n",
    "\n",
    "XOR - associative i.e. it doesn't matter how we group bits\n",
    "XOR - commutative i.e. the order in which we perform XORs doesnot change the result.\n",
    "\n",
    "The **XOR of a group bit is it parity**, we can explot this fact to use the CPU's word-level XOR instruction to process multiple bits at a time.\n"
   ]
  },
  {
   "cell_type": "code",
   "execution_count": 15,
   "metadata": {},
   "outputs": [
    {
     "name": "stdout",
     "output_type": "stream",
     "text": [
      "0\n",
      "1\n"
     ]
    }
   ],
   "source": [
    "def parity(x):\n",
    "    x ^= x >> 32\n",
    "    x ^= x >> 16\n",
    "    x ^= x >> 8\n",
    "    x ^= x >> 4\n",
    "    x ^= x >> 2\n",
    "    x ^= x >> 1\n",
    "    return x & 0x1\n",
    "\n",
    "print(parity(6))\n",
    "print(parity(18446744073709551614))\n",
    "\n",
    "\n",
    "# time complexity is O(log n), where n is the word-size"
   ]
  },
  {
   "cell_type": "markdown",
   "metadata": {},
   "source": [
    "Note: We can combine caching with word-level operations, e.g. by doing a lookup in the XOR-based approach once we get to 16 bits.\n",
    "\n",
    "The actual runtimes depend on the input data, e.g. the refinement of the brute-force algorithm is very fast on sparse inputs. However, for random inputs, the refinement of the brute-force is roughly **20% faster** than the brute-force algorithm. The Table based approach is **four times faster** still, and using associativity reduces run time by another factor of two."
   ]
  },
  {
   "cell_type": "markdown",
   "metadata": {},
   "source": [
    "### Program 5\n",
    "**Variant:** Write expression that use bitwise operators, equality checks, and Boolean Operators to do the following in O(1) time\n",
    "\n",
    "- Right propogate the rightmost set bit in x, e.g., turns (01010000)2 to (01011111)2 \n",
    "- Compute x mod a power of two, e.g., return 13 for 77 mod 64\n",
    "- Test if x is a power of 2, i.e. evaluates to true for x = 1,2,4,8,.. false for all other values."
   ]
  },
  {
   "cell_type": "code",
   "execution_count": 16,
   "metadata": {},
   "outputs": [
    {
     "name": "stdout",
     "output_type": "stream",
     "text": [
      "95\n"
     ]
    }
   ],
   "source": [
    "# input 01010000 = 80\n",
    "# output 01011111 = 95\n",
    "# rigmost set bit in input corresponds to 16(10000), so 15(01111) will be all one's \n",
    "# 01010000\n",
    "# 01001111\n",
    "# 01011111 (OR)\n",
    "def rightpropogate(x):\n",
    "    return x | (x-1)\n",
    "\n",
    "print(rightpropogate(80))"
   ]
  },
  {
   "cell_type": "code",
   "execution_count": 17,
   "metadata": {},
   "outputs": [
    {
     "name": "stdout",
     "output_type": "stream",
     "text": [
      "13\n"
     ]
    }
   ],
   "source": [
    "# Compute n modulo d without division(/) and modulo(%) operators, where d is a power of 2 number.\n",
    "# 77 (01001101) mod 64 (01000000)= 13 (00001101)\n",
    "# 01001101 77 \n",
    "# 00111111 63 \n",
    "# 00001101 13\n",
    "def mod(x,y):\n",
    "    return x & (y-1)\n",
    "\n",
    "print(mod(77,64))"
   ]
  },
  {
   "cell_type": "code",
   "execution_count": 18,
   "metadata": {},
   "outputs": [
    {
     "name": "stdout",
     "output_type": "stream",
     "text": [
      "False\n",
      "True\n",
      "False\n"
     ]
    }
   ],
   "source": [
    "# 00000100 (4)\n",
    "# 00000011 (3)\n",
    "def PowerOfTwo(x):\n",
    "    return (x & (x -1) == 0) and x != 0\n",
    "\n",
    "print(PowerOfTwo(63))\n",
    "print(PowerOfTwo(4))\n",
    "print(PowerOfTwo(0))"
   ]
  },
  {
   "cell_type": "markdown",
   "metadata": {},
   "source": [
    "## 4.2 SWAP BITS\n",
    "\n",
    "A brute-force approach would be to use bitmasks to extract the ith and jth bits, saving them in local variables. Consequently, write the saved jth bit to index i and saved ith bit to index jm using combination of bitmask and bitwise operations\n",
    "\n",
    "The brute-force approach works generally, e.g., if we were swapping objects stored in an array. However, since a bit can only take two values, we can do a little better. First check if bits two be swapped differ, if YES, swapping them is the same as flipping their individual values.\n",
    "\n",
    "### Program 6"
   ]
  },
  {
   "cell_type": "code",
   "execution_count": 19,
   "metadata": {},
   "outputs": [
    {
     "name": "stdout",
     "output_type": "stream",
     "text": [
      "2\n"
     ]
    }
   ],
   "source": [
    "# swap bit at index i with bit at index j\n",
    "\n",
    "# 64: 01000000\n",
    "# i = 6, j =1\n",
    "#     01000000\n",
    "#     00000010\n",
    "# OR  01000010 = 66\n",
    "# XOR 00000010 = XOR of 64 and 66\n",
    "\n",
    "def swapbits(x,i,j):\n",
    "    if (x>>i & 1) != (x>>j & 1): \n",
    "        # first checking that both are not same, othewise there is no point in swaping\n",
    "        # select the bits to flip with bit_mask, since x^1 = 0 when x =1 and 1 when x = 0\n",
    "        # when x =0 , we can perform flip XOR\n",
    "        bit_mask = (1 <<i) | (1 << j)\n",
    "        x^= bit_mask\n",
    "    return x\n",
    "\n",
    "print(swapbits(64,6,1))\n",
    "\n",
    "#timecomplexity O(1), independent of the word size"
   ]
  },
  {
   "cell_type": "markdown",
   "metadata": {},
   "source": [
    "## 4.3 REVERSE BITS\n",
    "\n",
    "Write a program that takes a 64-bit unsigned integer and returns the 64-bit unsigned integer consisting of the bits of the input in reverse order. For example, if the input is (1110000000000001), the output should be(1000000000000111).\n",
    "\n",
    "Hint: Use a lookup table.\n",
    "\n",
    "**Solution 1**: If we need to perform this operation just once, there is a simple brute-force algorithm: iterate through the 32 least significant bits of the input, and swap each with the corresponding most significant bit, using, swap bits (program 6)\n",
    "\n",
    "**Solution 2**: To implement reverse when the operation is to be performed repeatedly, we look more carefully at the structure of the input, with an eye towards using a cache. Similar to computing parity using lookup, a very fast way to reverse bits of 16-bit integer when we are performing many reverses is to build an array-based lookup-table A such that every 16-bit integer y, A[y] holds the bit-reversal of y. \n",
    "e.g for 8-bit integers and 2-bit lookup table keys. The table is rev = <(00),(10),(01),(11)>. If the input is (10010011), its reverse is rev(11), rev(00), rev(01), rev(10), i.e., (11001001)\n",
    "\n",
    "\n",
    "### Program 7\n",
    "**TODO: Implement lookup table to complete following program. use 8-bits**\n"
   ]
  },
  {
   "cell_type": "code",
   "execution_count": 27,
   "metadata": {},
   "outputs": [],
   "source": [
    "def reverse_bits(x):\n",
    "    MASK_SIZE = 16\n",
    "    BIT_MASK = 0xFFFF\n",
    "    return (PRECOMPUTED_REVERSE[x & BIT_MASK] << (3 * MASK_SIZE) \n",
    "            | PRECOMPUTED_REVERSE[(x >> MASK_SIZE) & BIT_MASK ] << (2 * MASK_SIZE) \n",
    "            | PRECOMPUTED_REVERSE[(x >> (2 * MASK_SIZE)) & BIT_MASK ] <<  MASK_SIZE \n",
    "            | PRECOMPUTED_REVERSE[(x >> (3 * MASK_SIZE)) & BIT_MASK ])\n",
    "            \n",
    "# time-complexity  O(n/L), for n-bit integers and L-bit cache keys."
   ]
  },
  {
   "cell_type": "markdown",
   "metadata": {},
   "source": [
    "## 4.4 FIND A CLOSET INTEGER WITH THE SAME WEIGHT\n",
    "\n",
    "Define the _weight_ of a non-negative integer x to be the number of bits that are set to 1 in its binary representation. for example, since 92 in base-2 equals (1011100), the weight of 92 is 4\n",
    "\n",
    "Write a program which takes as input a nonnegative integer x and returns a number y which is not equal to x, but has the same weight as x and their difference, |y-x|, is as small as possible. You can assume x is not 0, or all 1s. For example, if x ==6, you should return 5. You can assume the integers fits in 64-bits.\n",
    "\n",
    "Hint: Start with the least significant bit.\n",
    "\n",
    "**Solution 1:**  A brute-force approach to try all the integers x-1, x+1, x-2, x+2... stopping as soon as we encounter one with the same weight at. It works poorly on some value for e.g. for 8, it will find in order 7,9,6,10,5,11,4 stopping at 4. The algorithm tries 2^(3-1) numbers smaller than 8, i.e. 7,6,5,4 and 2^(3-1) -1 i.e. 9,10,11. The example generalizes , suppose x = 2^30, the algorithm will evaluate between 2^30 and 2^29 + 2^30 and 2^29 -1 i.e. over one billion integers.\n",
    "\n",
    "**Wrong Approach** A natural focus is to swap LSB with rightmost bit that differs from it. It works for some input but can result in wrong output. for e.g. 111 (7 in decimal), it return (1110) i.e. 14. however 1011 (11) has same weight and closer to 111.\n",
    "\n",
    "**Solution 2:** Suppose we flip the bit at index **k1** and flip the bit at index **k2**, k1>k2. The absolute difference between orginal value and new value is 2^k1 - 2^k2. **To minimize this,** we should make k1 as small as possible and k2 as close to k1. \n",
    "Also to preserve weight, the bit at k1 has to be different from the bit at k2, otherwise the flips leads to different  weight. This means the smallest k1 is the rightmost bit that's different from the LSB, and k2 must be the very next bit. In Summary, **Swap the two rightmost consecutive bits that differ**"
   ]
  },
  {
   "cell_type": "code",
   "execution_count": null,
   "metadata": {},
   "outputs": [],
   "source": []
  }
 ],
 "metadata": {
  "kernelspec": {
   "display_name": "Python 3",
   "language": "python",
   "name": "python3"
  },
  "language_info": {
   "codemirror_mode": {
    "name": "ipython",
    "version": 3
   },
   "file_extension": ".py",
   "mimetype": "text/x-python",
   "name": "python",
   "nbconvert_exporter": "python",
   "pygments_lexer": "ipython3",
   "version": "3.7.6"
  }
 },
 "nbformat": 4,
 "nbformat_minor": 4
}
